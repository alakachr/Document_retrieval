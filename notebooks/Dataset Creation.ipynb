{
 "cells": [
  {
   "cell_type": "code",
   "execution_count": 1,
   "id": "b2f71174",
   "metadata": {},
   "outputs": [],
   "source": [
    "%load_ext autoreload\n",
    "%autoreload 2"
   ]
  },
  {
   "cell_type": "code",
   "execution_count": 6,
   "id": "8a7c4944",
   "metadata": {},
   "outputs": [
    {
     "name": "stderr",
     "output_type": "stream",
     "text": [
      "[nltk_data] Downloading package stopwords to /data/ubuntu/nltk_data...\n",
      "[nltk_data]   Package stopwords is already up-to-date!\n",
      "[nltk_data] Downloading package punkt to /data/ubuntu/nltk_data...\n",
      "[nltk_data]   Package punkt is already up-to-date!\n"
     ]
    }
   ],
   "source": [
    "import pandas as pd\n",
    "import numpy as np\n",
    "import json \n",
    "from sklearn.model_selection import train_test_split\n",
    "import nltk\n",
    "import seaborn as sns\n",
    "from collections import Counter\n",
    "from nltk.corpus import stopwords\n",
    "from nltk.tokenize import word_tokenize\n",
    "nltk.download('stopwords')\n",
    "nltk.download('punkt')\n",
    "from tqdm import tqdm"
   ]
  },
  {
   "cell_type": "code",
   "execution_count": 3,
   "id": "e3da45b7",
   "metadata": {},
   "outputs": [],
   "source": [
    "data_path = \"/data/ubuntu/Constrastive-Representation-Learning/data/dataset_big_patent_v1.json\"\n",
    "with open(data_path) as f:\n",
    "    data = json.load(f)"
   ]
  },
  {
   "cell_type": "code",
   "execution_count": 4,
   "id": "08a8480a",
   "metadata": {},
   "outputs": [
    {
     "data": {
      "text/plain": [
       "(374, 125)"
      ]
     },
     "execution_count": 4,
     "metadata": {},
     "output_type": "execute_result"
    }
   ],
   "source": [
    "data_train , data_test = train_test_split(data)\n",
    "len(data_train),len(data_test)"
   ]
  },
  {
   "cell_type": "code",
   "execution_count": 14,
   "id": "f69aac64",
   "metadata": {},
   "outputs": [
    {
     "name": "stderr",
     "output_type": "stream",
     "text": [
      "100%|████████████████████████████████████████████████████████| 374/374 [00:00<00:00, 3558.31it/s]\n"
     ]
    }
   ],
   "source": [
    "MAX_LEN= 300\n",
    "\n",
    "new_data_train = []\n",
    "for instance in tqdm(data_train):\n",
    "\n",
    "    subtexts= []\n",
    "    \n",
    "    text = instance[\"pos\"]\n",
    "    words = text.split()\n",
    "    subtexts = [words[i:i + MAX_LEN] for i in range(0, len(words), MAX_LEN)]\n",
    "    for sub in subtexts:\n",
    "        new_instance= {} \n",
    "        new_instance[\"query\"]= instance[\"query\"]\n",
    "        new_instance[\"negative\"]= instance[\"negative\"]\n",
    "      \n",
    "        new_instance[\"pos\"]=\" \".join(sub)\n",
    "        new_data_train.append(new_instance)\n",
    "        \n",
    "with open(\"/data/ubuntu/Constrastive-Representation-Learning/data/data_train_splitted.json\",\"w\") as f:\n",
    "    json.dump(new_data_train, f, indent= 1)"
   ]
  },
  {
   "cell_type": "code",
   "execution_count": 9,
   "id": "ef2cde6b",
   "metadata": {},
   "outputs": [
    {
     "data": {
      "text/plain": [
       "3979"
      ]
     },
     "execution_count": 9,
     "metadata": {},
     "output_type": "execute_result"
    }
   ],
   "source": [
    "len(new_data_train)"
   ]
  },
  {
   "cell_type": "code",
   "execution_count": 13,
   "id": "b23db955",
   "metadata": {},
   "outputs": [
    {
     "name": "stderr",
     "output_type": "stream",
     "text": [
      "100%|████████████████████████████████████████████████████████| 125/125 [00:00<00:00, 3389.33it/s]\n"
     ]
    },
    {
     "data": {
      "text/plain": [
       "1324"
      ]
     },
     "execution_count": 13,
     "metadata": {},
     "output_type": "execute_result"
    }
   ],
   "source": [
    "MAX_LEN= 300\n",
    "\n",
    "new_data_test = []\n",
    "for instance in tqdm(data_test):\n",
    "\n",
    "    subtexts= []\n",
    "    \n",
    "    text = instance[\"pos\"]\n",
    "    words = text.split()\n",
    "    subtexts = [words[i:i + MAX_LEN] for i in range(0, len(words), MAX_LEN)]\n",
    "    for sub in subtexts:\n",
    "        new_instance= {} \n",
    "        new_instance[\"query\"]= instance[\"query\"]\n",
    "        new_instance[\"negative\"]= instance[\"negative\"]\n",
    "      \n",
    "        new_instance[\"pos\"]=\" \".join(sub)\n",
    "        new_data_test.append(new_instance)\n",
    "        \n",
    "with open(\"/data/ubuntu/Constrastive-Representation-Learning/data/data_test_splitted.json\",\"w\") as f:\n",
    "    json.dump(new_data_test, f, indent= )\n",
    "\n",
    "len(new_data_test)"
   ]
  },
  {
   "cell_type": "code",
   "execution_count": 15,
   "id": "53586a6b",
   "metadata": {},
   "outputs": [],
   "source": [
    "with open(\"/data/ubuntu/Constrastive-Representation-Learning/data/data_train.json\",\"w\") as f:\n",
    "    json.dump(data_train, f, indent= 1)\n",
    "\n",
    "with open(\"/data/ubuntu/Constrastive-Representation-Learning/data/data_test.json\",\"w\") as f:\n",
    "    json.dump(data_test, f, indent= 1)"
   ]
  },
  {
   "cell_type": "code",
   "execution_count": null,
   "id": "2b4c8403",
   "metadata": {},
   "outputs": [],
   "source": []
  }
 ],
 "metadata": {
  "kernelspec": {
   "display_name": "ml_api",
   "language": "python",
   "name": "ml_api"
  },
  "language_info": {
   "codemirror_mode": {
    "name": "ipython",
    "version": 3
   },
   "file_extension": ".py",
   "mimetype": "text/x-python",
   "name": "python",
   "nbconvert_exporter": "python",
   "pygments_lexer": "ipython3",
   "version": "3.10.5"
  }
 },
 "nbformat": 4,
 "nbformat_minor": 5
}
